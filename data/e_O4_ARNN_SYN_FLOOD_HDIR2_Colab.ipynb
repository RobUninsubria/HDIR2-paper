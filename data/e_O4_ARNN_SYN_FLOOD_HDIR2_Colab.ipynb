{
 "cells": [
  {
   "cell_type": "markdown",
   "id": "152bc380",
   "metadata": {},
   "source": [
    "# 🔐 ARNN per Rilevamento SYN Flood – H-DIR²\n",
    "Training, valutazione e ROC Curve"
   ]
  },
  {
   "cell_type": "code",
   "execution_count": null,
   "id": "b0991a8e",
   "metadata": {},
   "outputs": [],
   "source": [
    "# 📦 Installazione librerie necessarie (solo su Colab)\n",
    "!pip install scikit-learn torch matplotlib pandas\n"
   ]
  },
  {
   "cell_type": "code",
   "execution_count": null,
   "id": "a40b5f1e",
   "metadata": {},
   "outputs": [],
   "source": [
    "# 📁 Upload del file V1\n",
    "from google.colab import files\n",
    "uploaded = files.upload()\n"
   ]
  },
  {
   "cell_type": "code",
   "execution_count": null,
   "id": "814ede79",
   "metadata": {},
   "outputs": [],
   "source": [
    "# 📊 Caricamento CSV vettoriale\n",
    "import pandas as pd\n",
    "df = pd.read_csv('O3_Vectorization_V1_matrix.csv')\n",
    "\n",
    "# 🎯 Selezione feature e label\n",
    "X = df[['delta_H', 'r', 'syn_count', 'duration_mean', 'syn_ratio']].values\n",
    "y = df['label'].values\n"
   ]
  },
  {
   "cell_type": "code",
   "execution_count": null,
   "id": "5305b689",
   "metadata": {},
   "outputs": [],
   "source": [
    "# 🔀 Train/test split\n",
    "from sklearn.model_selection import train_test_split\n",
    "X_train, X_test, y_train, y_test = train_test_split(X, y, test_size=0.2, random_state=42)\n"
   ]
  },
  {
   "cell_type": "code",
   "execution_count": null,
   "id": "a79ded0b",
   "metadata": {},
   "outputs": [],
   "source": [
    "# 🧠 Definizione ARNN\n",
    "import torch\n",
    "import torch.nn as nn\n",
    "from torch.utils.data import TensorDataset, DataLoader\n",
    "from sklearn.metrics import classification_report, confusion_matrix, roc_auc_score, roc_curve\n",
    "import matplotlib.pyplot as plt\n",
    "\n",
    "# Tensori\n",
    "X_train_tensor = torch.tensor(X_train, dtype=torch.float32)\n",
    "y_train_tensor = torch.tensor(y_train, dtype=torch.long)\n",
    "X_test_tensor = torch.tensor(X_test, dtype=torch.float32)\n",
    "y_test_tensor = torch.tensor(y_test, dtype=torch.long)\n",
    "\n",
    "train_loader = DataLoader(TensorDataset(X_train_tensor, y_train_tensor), batch_size=32, shuffle=True)\n",
    "test_loader = DataLoader(TensorDataset(X_test_tensor, y_test_tensor), batch_size=32)\n"
   ]
  },
  {
   "cell_type": "code",
   "execution_count": null,
   "id": "d9e5f82a",
   "metadata": {},
   "outputs": [],
   "source": [
    "class ARNN(nn.Module):\n",
    "    def __init__(self, input_dim, hidden_dim, output_dim):\n",
    "        super(ARNN, self).__init__()\n",
    "        self.fc1 = nn.Linear(input_dim, hidden_dim)\n",
    "        self.relu = nn.ReLU()\n",
    "        self.fc2 = nn.Linear(hidden_dim, output_dim)\n",
    "        self.out = nn.LogSoftmax(dim=1)\n",
    "\n",
    "    def forward(self, x):\n",
    "        return self.out(self.fc2(self.relu(self.fc1(x))))\n"
   ]
  },
  {
   "cell_type": "code",
   "execution_count": null,
   "id": "5403ee70",
   "metadata": {},
   "outputs": [],
   "source": [
    "# 🔧 Inizializzazione e training\n",
    "model = ARNN(5, 32, 2)\n",
    "optimizer = torch.optim.Adam(model.parameters(), lr=0.01)\n",
    "criterion = nn.NLLLoss()\n",
    "\n",
    "for epoch in range(30):\n",
    "    model.train()\n",
    "    for xb, yb in train_loader:\n",
    "        optimizer.zero_grad()\n",
    "        pred = model(xb)\n",
    "        loss = criterion(pred, yb)\n",
    "        loss.backward()\n",
    "        optimizer.step()\n"
   ]
  },
  {
   "cell_type": "code",
   "execution_count": null,
   "id": "08bf20a3",
   "metadata": {},
   "outputs": [],
   "source": [
    "# 🧪 Valutazione\n",
    "model.eval()\n",
    "y_true, y_pred, y_prob = [], [], []\n",
    "\n",
    "with torch.no_grad():\n",
    "    for xb, yb in test_loader:\n",
    "        out = model(xb)\n",
    "        probs = torch.exp(out)[:, 1]\n",
    "        preds = torch.argmax(out, dim=1)\n",
    "        y_true.extend(yb.numpy())\n",
    "        y_pred.extend(preds.numpy())\n",
    "        y_prob.extend(probs.numpy())\n",
    "\n",
    "print(\"Confusion Matrix:\\n\", confusion_matrix(y_true, y_pred))\n",
    "print(\"\\nClassification Report:\\n\", classification_report(y_true, y_pred))\n",
    "print(\"ROC AUC Score:\", roc_auc_score(y_true, y_prob))\n"
   ]
  },
  {
   "cell_type": "code",
   "execution_count": null,
   "id": "375ff31f",
   "metadata": {},
   "outputs": [],
   "source": [
    "# 📈 ROC Curve\n",
    "fpr, tpr, _ = roc_curve(y_true, y_prob)\n",
    "plt.plot(fpr, tpr, label='ARNN')\n",
    "plt.plot([0, 1], [0, 1], '--', color='gray')\n",
    "plt.xlabel('False Positive Rate')\n",
    "plt.ylabel('True Positive Rate')\n",
    "plt.title('ROC Curve - ARNN SYN Flood Detection')\n",
    "plt.legend()\n",
    "plt.grid(True)\n",
    "plt.show()\n"
   ]
  }
 ],
 "metadata": {},
 "nbformat": 4,
 "nbformat_minor": 5
}