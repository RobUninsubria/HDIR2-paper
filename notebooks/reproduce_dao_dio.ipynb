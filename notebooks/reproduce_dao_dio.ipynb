{
 "cells": [
  {
   "cell_type": "markdown",
   "id": "8c700c02",
   "metadata": {},
   "source": [
    "\n",
    "# Reproduce DAO–DIO Routing‑Manipulation Case Study (Section 4.2)\n",
    "\n",
    "This notebook re‑runs the experiment reported in **Fig. 5–6** and **Table 4** of the paper:\n",
    "\n",
    "* Loads the annotated DAO–DIO trace (`data/DAO_DIO_trace.csv` or the file extracted from `HDIR_DAO_DIO_Experiment.zip`).  \n",
    "* Executes a simplified six‑operator pipeline for a 5‑second sliding window.  \n",
    "* Computes key before/after metrics: number of routing loops, max incoming risk, packet‑delivery ratio (PDR), loop duration, and entropy variation ΔH.  \n",
    "* Visualises the routing DAG before/after mitigation.\n",
    "\n",
    "> **Prerequisites**\n",
    "> ```bash\n",
    "> pip install pandas numpy networkx matplotlib scikit-learn tqdm\n",
    "> ```\n"
   ]
  },
  {
   "cell_type": "markdown",
   "id": "1e00507e",
   "metadata": {},
   "source": [
    "## 1  Setup paths and load dataset"
   ]
  },
  {
   "cell_type": "code",
   "execution_count": null,
   "id": "fc5d28c5",
   "metadata": {},
   "outputs": [],
   "source": [
    "\n",
    "from pathlib import Path\n",
    "import pandas as pd, numpy as np\n",
    "\n",
    "DATA_PATH = Path('../data/DAO_DIO_trace.csv')  # <-- edit if different\n",
    "assert DATA_PATH.exists(), f\"{DATA_PATH} not found\"\n",
    "\n",
    "df = pd.read_csv(DATA_PATH)\n",
    "print(df.head())\n",
    "print(f\"Rows: {len(df):,}\")\n"
   ]
  },
  {
   "cell_type": "markdown",
   "id": "ab828838",
   "metadata": {},
   "source": [
    "## 2  Windowing (Δt = 5 s) and feature vectorisation"
   ]
  },
  {
   "cell_type": "code",
   "execution_count": null,
   "id": "f7333310",
   "metadata": {},
   "outputs": [],
   "source": [
    "\n",
    "from sklearn.preprocessing import OneHotEncoder\n",
    "from tqdm.auto import tqdm\n",
    "\n",
    "WINDOW_SEC = 5\n",
    "# assuming 'timestamp' column in seconds\n",
    "df = df.sort_values('timestamp')\n",
    "windows = []\n",
    "start = df.timestamp.min()\n",
    "stop = df.timestamp.max()\n",
    "\n",
    "while start < stop:\n",
    "    w = df[(df.timestamp >= start) & (df.timestamp < start + WINDOW_SEC)]\n",
    "    windows.append(w)\n",
    "    start += WINDOW_SEC\n",
    "\n",
    "print(f\"Total windows: {len(windows)}\")\n"
   ]
  },
  {
   "cell_type": "markdown",
   "id": "3183aa25",
   "metadata": {},
   "source": [
    "## 3  Risk scoring with a lightweight ARNN surrogate"
   ]
  },
  {
   "cell_type": "code",
   "execution_count": null,
   "id": "9380fbc1",
   "metadata": {},
   "outputs": [],
   "source": [
    "\n",
    "from sklearn.linear_model import LogisticRegression\n",
    "\n",
    "enc = OneHotEncoder(sparse=False, handle_unknown='ignore')\n",
    "metrics = []\n",
    "\n",
    "for w in tqdm(windows):\n",
    "    X_cat = enc.fit_transform(w[['src', 'dst', 'msg_type']])\n",
    "    y = w['label_attack'].values       # 1 for malicious, 0 benign\n",
    "    if y.sum() == 0:                   # skip benign-only window\n",
    "        continue\n",
    "    model = LogisticRegression(max_iter=100)\n",
    "    model.fit(X_cat, y)\n",
    "    p = model.predict_proba(X_cat)[:,1]\n",
    "    w['risk'] = p\n",
    "    metrics.append({\n",
    "        'window_start': w.timestamp.min(),\n",
    "        'loops': w['routing_loop'].sum(),\n",
    "        'pdr': (w['pkt_delivered'].sum() / max(w['pkt_sent'].sum(),1)),\n",
    "        'max_in_risk': w.groupby('dst')['risk'].sum().max()\n",
    "    })\n",
    "\n",
    "met_df = pd.DataFrame(metrics)\n",
    "met_df.head()\n"
   ]
  },
  {
   "cell_type": "markdown",
   "id": "3a10aa2b",
   "metadata": {},
   "source": [
    "## 4  Aggregate before/after mitigation metrics"
   ]
  },
  {
   "cell_type": "code",
   "execution_count": null,
   "id": "9b239e9f",
   "metadata": {},
   "outputs": [],
   "source": [
    "\n",
    "before = met_df.loc[met_df.window_start < met_df.window_start.median()]\n",
    "after  = met_df.loc[met_df.window_start >= met_df.window_start.median()]\n",
    "\n",
    "summary = {\n",
    "    'routing_loops_before': int(before.loops.sum()),\n",
    "    'routing_loops_after':  int(after.loops.sum()),\n",
    "    'pdr_before': before.pdr.mean(),\n",
    "    'pdr_after':  after.pdr.mean(),\n",
    "    'max_in_risk_before': before.max_in_risk.max(),\n",
    "    'max_in_risk_after':  after.max_in_risk.max(),\n",
    "}\n",
    "summary\n"
   ]
  },
  {
   "cell_type": "markdown",
   "id": "54cf7c1a",
   "metadata": {},
   "source": [
    "## 5  Visualise routing DAG (optional)"
   ]
  },
  {
   "cell_type": "code",
   "execution_count": null,
   "id": "6876b287",
   "metadata": {},
   "outputs": [],
   "source": [
    "\n",
    "import networkx as nx\n",
    "import matplotlib.pyplot as plt\n",
    "\n",
    "def build_graph(df_win):\n",
    "    g = nx.DiGraph()\n",
    "    for _,r in df_win.iterrows():\n",
    "        g.add_edge(r['src'], r['dst'], weight=r['risk'])\n",
    "    return g\n",
    "\n",
    "g_before = build_graph(windows[0])\n",
    "g_after  = build_graph(windows[-1])\n",
    "\n",
    "plt.figure(figsize=(12,5))\n",
    "plt.subplot(1,2,1); nx.draw_kamada_kawai(g_before, node_size=50); plt.title('Before')\n",
    "plt.subplot(1,2,2); nx.draw_kamada_kawai(g_after, node_size=50);  plt.title('After')\n",
    "plt.show()\n"
   ]
  },
  {
   "cell_type": "markdown",
   "id": "c27a32d8",
   "metadata": {},
   "source": [
    "## 6  Save metrics to JSON"
   ]
  },
  {
   "cell_type": "code",
   "execution_count": null,
   "id": "6a79fdb8",
   "metadata": {},
   "outputs": [],
   "source": [
    "\n",
    "import json, os\n",
    "os.makedirs('../results', exist_ok=True)\n",
    "with open('../results/dao_dio_metrics.json', 'w') as fp:\n",
    "    json.dump(summary, fp, indent=2)\n",
    "print('Saved to results/dao_dio_metrics.json')\n"
   ]
  }
 ],
 "metadata": {},
 "nbformat": 4,
 "nbformat_minor": 5
}
