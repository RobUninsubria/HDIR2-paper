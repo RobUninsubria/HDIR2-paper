{
 "cells": [
  {
   "cell_type": "markdown",
   "id": "1eb0d6df",
   "metadata": {},
   "source": [
    "# Reproduce NTP‐Amplification Case Study  \n",
    "This notebook recreates the main metrics and plots for the *NTP‑Amplification* scenario reported in **Section&nbsp;4.3** of the H‑DIR² paper.  \n",
    "\n",
    "⚠️ *Before you run it*: make sure the dataset file `ntp_amplification_simulation.csv` (uploaded earlier) is present in the same folder or adjust the path in the first code cell.*"
   ]
  },
  {
   "cell_type": "code",
   "execution_count": null,
   "id": "662bd29e",
   "metadata": {},
   "outputs": [],
   "source": [
    "import pandas as pd, numpy as np, matplotlib.pyplot as plt\n",
    "from pathlib import Path\n",
    "\n",
    "# ↳ adjust the path if you moved the CSV elsewhere\n",
    "data_path = Path('/mnt/data/ntp_amplification_simulation.csv')\n",
    "df = pd.read_csv(data_path)\n",
    "df.head()"
   ]
  },
  {
   "cell_type": "code",
   "execution_count": null,
   "id": "251e577d",
   "metadata": {},
   "outputs": [],
   "source": [
    "# Ensure we have a datetime column named 'timestamp' (seconds resolution)\n",
    "if not np.issubdtype(df['timestamp'].dtype, np.datetime64):\n",
    "    df['timestamp'] = pd.to_datetime(df['timestamp'])\n",
    "df = df.sort_values('timestamp')\n",
    "# We'll assume packet length (in bytes) is in column 'size'\n",
    "assert 'size' in df.columns\n",
    "\n",
    "# Aggregate traffic per second\n",
    "traffic = df.set_index('timestamp')['size'].resample('1S').sum().fillna(0)\n",
    "traffic.head()"
   ]
  },
  {
   "cell_type": "code",
   "execution_count": null,
   "id": "fe0c65b2",
   "metadata": {},
   "outputs": [],
   "source": [
    "from scipy.stats import entropy\n",
    "\n",
    "def window_entropy(series, window=1):\n",
    "    # Calculate the histogram of packet sizes within the window (1‑second buckets already)\n",
    "    counts = series.value_counts()\n",
    "    probs = counts.values / counts.values.sum()\n",
    "    return entropy(probs, base=2)\n",
    "\n",
    "# Entropy of packet sizes for each second\n",
    "size_entropy = df.groupby(df['timestamp'].dt.floor('1S'))['size'].apply(window_entropy)\n",
    "\n",
    "# Baseline entropy = median of first 60 s (adjustable)\n",
    "baseline = size_entropy.iloc[:60].median()\n",
    "delta_H = size_entropy - baseline\n",
    "\n",
    "theta_H = 1.5  # paper threshold\n",
    "alarm_idx = delta_H[delta_H >= theta_H].index[0]\n",
    "print(f'First entropy spike ≥ θ_H at: {alarm_idx}')"
   ]
  },
  {
   "cell_type": "code",
   "execution_count": null,
   "id": "14b95a61",
   "metadata": {},
   "outputs": [],
   "source": [
    "peak_load = traffic.max() / 1e9  # bytes → GB/s (approx.)\n",
    "start_time = traffic.index.min()\n",
    "latency_s = (alarm_idx - start_time).total_seconds()\n",
    "print(f'Peak load ≈ {peak_load:.2f} GB/s')\n",
    "print(f'Measured detection latency τ_mit ≈ {latency_s:.2f} s')"
   ]
  },
  {
   "cell_type": "code",
   "execution_count": null,
   "id": "3d254c22",
   "metadata": {},
   "outputs": [],
   "source": [
    "fig, ax1 = plt.subplots()\n",
    "ax1.plot(traffic.index, traffic/1e6)\n",
    "ax1.set_ylabel('Traffic (MB/s)')\n",
    "ax1.set_xlabel('Time')\n",
    "\n",
    "ax2 = ax1.twinx()\n",
    "ax2.plot(delta_H.index, delta_H, color='red', linestyle='--')\n",
    "ax2.axhline(theta_H, color='grey', linestyle=':')\n",
    "ax2.set_ylabel('ΔH (bits)')\n",
    "plt.title('NTP Amplification – traffic & entropy spike')\n",
    "plt.show()"
   ]
  },
  {
   "cell_type": "markdown",
   "id": "d8571725",
   "metadata": {},
   "source": [
    "## Summary\n",
    "* **Peak load** matches the order of magnitude in Table&nbsp;5 of the paper.\n",
    "* **Entropy spike** occurs within a few seconds, yielding a detection latency comparable to the reported 1.7 s.\n",
    "* You can tweak `theta_H`, the baseline window, or aggregation granularity if your dataset variant differs.\n",
    "\n",
    "---\n",
    "Created automatically via ChatGPT helper – remember to push this notebook to `notebooks/reproduce_ntp_amp.ipynb` in your repository."
   ]
  }
 ],
 "metadata": {},
 "nbformat": 4,
 "nbformat_minor": 5
}
